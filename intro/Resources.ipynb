{
 "cells": [
  {
   "cell_type": "markdown",
   "metadata": {},
   "source": [
    "# ML Resources\n",
    "### Links\n",
    "* [Linear Algebra](https://www.khanacademy.org/math/linear-algebra)\n",
    "* [Coding the Matrix](http://codingthematrix.com/) \n",
    "* [Differential Equations (Khan)](https://www.khanacademy.org/math/differential-equations)\n",
    "* [Descriptive Statistics (](https://www.khanacademy.org/math/probability/descriptive-statistics) \n",
    "* [Understanding Convolutional Neural Networks for NLP](http://www.wildml.com/2015/11/understanding-convolutional-neural-networks-for-nlp/)\n",
    "* [WildML](http://www.wildml.com/)\n",
    "* [Deep Learning Tutorial](http://ufldl.stanford.edu/tutorial) \n"
   ]
  },
  {
   "cell_type": "markdown",
   "metadata": {},
   "source": [
    "### Linear Algebra Review"
   ]
  },
  {
   "cell_type": "code",
   "execution_count": null,
   "metadata": {
    "collapsed": true
   },
   "outputs": [],
   "source": []
  }
 ],
 "metadata": {
  "kernelspec": {
   "display_name": "Python 2",
   "language": "python",
   "name": "python2"
  },
  "language_info": {
   "codemirror_mode": {
    "name": "ipython",
    "version": 2
   },
   "file_extension": ".py",
   "mimetype": "text/x-python",
   "name": "python",
   "nbconvert_exporter": "python",
   "pygments_lexer": "ipython2",
   "version": "2.7.11"
  }
 },
 "nbformat": 4,
 "nbformat_minor": 0
}
