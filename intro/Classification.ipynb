{
 "cells": [
  {
   "cell_type": "markdown",
   "metadata": {},
   "source": [
    "### Classification Models\n",
    "\n",
    "### Evaluation of Classifier Accuracy\n",
    "* Important to think about how accurate your classifier needs to be.\n",
    "* Compare your model to random guessing - if you can't do that, its worthless\n",
    "* Class imbalance - majority class if known will beat random guessing\n",
    "\n",
    "A Majority Classifier will simply add up the number of 1s in the sentiment column. Then, seeing that the vast majority of rows have a 1 in the sentiment column, the Majority Classifier will simply guess that every row has a 1 in the sentiment column.\n",
    "\n",
    "If, say, 85% of the rows have a 1 in the sentiment column, this means that a Majority Classifier will be right 85% of the time. It also means that your classifier algorithm needs to do better that 85% right to beat the Majority Classifier.\n",
    "\n",
    "### ML Workflow for Classification"
   ]
  },
  {
   "cell_type": "markdown",
   "metadata": {},
   "source": [
    "#### Todo\n",
    "*Lecture Quiz - Determine why answer 3 is wrong*\n",
    "*Programming Quiz - Determine why answer 10is wrong*"
   ]
  },
  {
   "cell_type": "code",
   "execution_count": null,
   "metadata": {
    "collapsed": true
   },
   "outputs": [],
   "source": []
  }
 ],
 "metadata": {
  "kernelspec": {
   "display_name": "Python 2",
   "language": "python",
   "name": "python2"
  },
  "language_info": {
   "codemirror_mode": {
    "name": "ipython",
    "version": 2
   },
   "file_extension": ".py",
   "mimetype": "text/x-python",
   "name": "python",
   "nbconvert_exporter": "python",
   "pygments_lexer": "ipython2",
   "version": "2.7.11"
  }
 },
 "nbformat": 4,
 "nbformat_minor": 0
}
