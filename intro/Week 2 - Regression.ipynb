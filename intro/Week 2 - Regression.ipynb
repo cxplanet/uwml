{
 "cells": [
  {
   "cell_type": "markdown",
   "metadata": {},
   "source": [
    "# UWML  Week 2\n",
    "## Regression\n",
    "Regression is a widely used statistical technique. The idea is simple - we have set of features, and we want to model how our observations that are associated with these features change as we change the values of these features. \n",
    "https://en.wikipedia.org/wiki/Feature_(machine_learning)\n",
    "\n",
    "### Predicting the value of a house \n",
    "We can use regression to determine how to price a house for sale in a given market. Let's assume we have pricing data for houses of a specific size, measure in terms of square feet. If we were to plot this on a graph, with size as our x axis, and price as our y axis, we could as a first attempt to find a line that passed equally distant to each point on the graph. \n",
    "\n",
    "In terms of regression, we would call a value on the x axis the feature, covariate, or predictor, and call a value on the y the observation or response. Its important to note that in a real world application you would identify all the features that may be relevant. Examples of these features might be build date, yard size, bathroom or bedroom count, etc.\n",
    "\n",
    "Using linear regression, you can model the relationship between the square footage of the house and its sales price. The simplest model we can use is to fit a straight line through the data. This model would be of a slope-intercept form (y = mx + b). We would model this in terms of feature *x* as f(x) = w0 + w1 \\* x, where w0 is the intercept and w1 is the slope, which in statistics would be called the *weight of the feature(x)* or the *regression coefficient*.\n",
    "\n",
    "When determining the optimal line to use, we think about the 'cost' of a specific line. A common mesurement of the cost is the use of RSS, the residual sum of squares. The goal is to find a solution that minimizes the RSS. \n",
    "\n",
    "Note: about 'w hat'- There is an infinite number of sets that we can use for (w0, w1), w hat just denotes the (w0, w1) where the RSS is the minimum. This value represents the *estimated parameters* of the model. \n",
    "\n",
    "![](http://localhost:8888/files/cost_of_line.png)\n"
   ]
  },
  {
   "cell_type": "markdown",
   "metadata": {
    "collapsed": true
   },
   "source": [
    "### Using more complicated models\n",
    "You may find that a quadratic equation would offer a more accurate model for this data set. A quadratic equation is any equation having the form *ax^2+bx+c=0*. Fitting that model into the current problem, we wind up with something of this form: f(x) = w0 + w1 * x + w2 * x^2. The important point to glean here is that we are treating the square of x (the square feet of the house) as just another feature, and we are still solving for the minimum RSS for w0, w1, and w2. \n",
    "\n",
    "One additional point to be made here - even if you use a 2nd, 3rd or 13th order equation, the process is still linear regression.\n",
    "\n",
    "![](http://localhost:8888/files/cost_of_quadratic.png)\n",
    "\n",
    "\n",
    "### Analyzing the effectiveness of a model\n",
    "Finding a model that provides the minimum RSS does not guarantee that it is the best predictor of a future value. The term *overfitting* refers to this issue, where your equation fits the existing data points, but is not the ideal mechanism to predict a future value. \n",
    "\n",
    "When determining the 'fit' of the model, split your data into a training set and a test set, and evaluate the \n",
    "\n",
    "Root Mean Squared Error = sqrt(RSS/n)\n",
    "\n",
    "### Descriptive Statistics\n",
    "Khan Academy has a good overview of [tools you can use when visualizing data](https://www.khanacademy.org/math/probability/descriptive-statistics)\n"
   ]
  },
  {
   "cell_type": "code",
   "execution_count": null,
   "metadata": {
    "collapsed": true
   },
   "outputs": [],
   "source": []
  }
 ],
 "metadata": {
  "kernelspec": {
   "display_name": "Python 2",
   "language": "python",
   "name": "python2"
  },
  "language_info": {
   "codemirror_mode": {
    "name": "ipython",
    "version": 2
   },
   "file_extension": ".py",
   "mimetype": "text/x-python",
   "name": "python",
   "nbconvert_exporter": "python",
   "pygments_lexer": "ipython2",
   "version": "2.7.11"
  }
 },
 "nbformat": 4,
 "nbformat_minor": 0
}
